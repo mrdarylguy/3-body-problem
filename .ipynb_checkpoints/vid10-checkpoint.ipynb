{
 "cells": [
  {
   "cell_type": "code",
   "execution_count": 1,
   "metadata": {},
   "outputs": [],
   "source": [
    "import numpy as np\n",
    "import matplotlib.pyplot as plt\n",
    "from scipy.integrate import odeint\n",
    "from scipy.integrate import solve_ivp\n",
    "from matplotlib import animation\n",
    "from mpl_toolkits.mplot3d import Axes3D\n",
    "from matplotlib.animation import PillowWriter"
   ]
  },
  {
   "cell_type": "markdown",
   "metadata": {},
   "source": [
    "Newton's law of gravity $F = ma = GMm/r^2$ and hence $a = GM/r^2$. For a collection of masses, written in terms of vector calculus:\n",
    "\n",
    "$$\\frac{d^2 \\vec{r}_i}{dt^2} = \\sum_{j \\neq i} \\frac{Gm_j}{r_{ij}^3} \\vec{r}_{ij} $$\n",
    "\n",
    "where $\\vec{r}_i$ and $m_i$ is the location and mass of the ith particle, and $\\vec{r}_{ij} = \\vec{r}_j - \\vec{r}_i$ (the tail of this vector is at $\\vec{r}_i$ and points to $\\vec{r}_j$).\n",
    "\n",
    "Dimensions for this problem are gross $G = 6.67 \\times 10^{-11}$ too small for efficient computation on computer. Convert to dimensionless quantities:\n",
    "\n",
    "$$\\frac{d^2 \\vec{r}_i'}{dt'^2} = \\sum_{j \\neq i} \\frac{m_j'}{r_{ij}'^3} \\vec{r}_{ij}' $$\n",
    "\n",
    "where\n",
    "\n",
    "* $\\vec{r}_i' = \\vec{r}_i / L$ and $\\vec{r}_{ij}' = \\vec{r}_{ij} / L$ where $L$ is some characteristic length of the problem\n",
    "* $m_i' = m_i / M$ where $M$ is some characteristic length of the problem\n",
    "* $t' = t\\sqrt{GM/L^3}$ where $M$ and $L$ are the characteristic length and mass.\n",
    "\n",
    "We will drop the primes for the rest of this code, assuming everything is dimensionless. We can solve for the motion of the object, as a function of dimensionless time $t'$ and then solve for $t$ using \n",
    "\n",
    "$$ t = t' \\sqrt{L^3 / GM}$$"
   ]
  },
  {
   "cell_type": "markdown",
   "metadata": {},
   "source": [
    "# 2 Body Problem"
   ]
  },
  {
   "cell_type": "markdown",
   "metadata": {},
   "source": [
    "Here we will set \n",
    "\n",
    "* $M = \\text{mass of earth} = 5.97\\times 10^{24}~$kg \n",
    "* $L = \\text{earth-sun distance} = 1.5 \\times 10^{11}~$m\n",
    "\n",
    "and simulate earths motion around the sun"
   ]
  },
  {
   "cell_type": "code",
   "execution_count": 4,
   "metadata": {},
   "outputs": [],
   "source": [
    "m1 = 1\n",
    "m2 = 333000 # sun 333000x heavier than earth\n",
    "x1_0 = 1 # initial position is one earth-sun distance away from the sun\n",
    "y1_0 = 0\n",
    "x2_0 = 0\n",
    "y2_0 = 0\n",
    "vx1_0 = 0\n",
    "vy1_0 = np.sqrt(m2) #circular motion v=sqrt(a*r) with a=m2 (since G=1, r12=1)\n",
    "vx2_0 = 0\n",
    "vy2_0 = 0"
   ]
  },
  {
   "cell_type": "markdown",
   "metadata": {},
   "source": [
    "Note that any second order ODE\n",
    "\n",
    "$$\\frac{d^2 y}{dt^2} = F\\left(y, \\frac{dy}{dt}, t\\right) $$\n",
    "\n",
    "can be rewritten as two coupled first order ODEs when defining $v_y = dy/dt$\n",
    "\n",
    "$$ \\frac{dy}{dt} = v_y $$\n",
    "$$ \\frac{dv_y}{dt} = F\\left(y, v_y, t\\right) $$"
   ]
  },
  {
   "cell_type": "markdown",
   "metadata": {},
   "source": [
    "So we define our system of things we need to solve for as \n",
    "\n",
    "$$\\vec{S} = (x_1, y_1, x_2, y_2, v_{x1}, v_{y1}, v_{x2}, v_{y2})$$\n",
    "\n",
    "and we need to write in a function that takes in $S$ and returns $d\\vec{S}/dt$"
   ]
  },
  {
   "cell_type": "code",
   "execution_count": 5,
   "metadata": {},
   "outputs": [],
   "source": [
    "def dSdt(S, t):\n",
    "    x1, y1, x2, y2, vx1, vy1, vx2, vy2 = S\n",
    "    r12 = np.sqrt((x2-x1)**2 + (y2-y1)**2)\n",
    "    return [ vx1,\n",
    "            vy1,\n",
    "            vx2,\n",
    "            vy2,\n",
    "            m2/r12**3 * (x2-x1),\n",
    "            m2/r12**3 * (y2-y1),\n",
    "            m1/r12**3 * (x1-x2),\n",
    "            m1/r12**3 * (y1-y2) ]"
   ]
  },
  {
   "cell_type": "markdown",
   "metadata": {},
   "source": [
    "Get array of times "
   ]
  },
  {
   "cell_type": "code",
   "execution_count": 6,
   "metadata": {},
   "outputs": [],
   "source": [
    "t = np.linspace(0,1,10000) "
   ]
  },
  {
   "cell_type": "markdown",
   "metadata": {},
   "source": [
    "Get solution"
   ]
  },
  {
   "cell_type": "code",
   "execution_count": 7,
   "metadata": {},
   "outputs": [],
   "source": [
    "sol = odeint(dSdt, y0=[x1_0, y1_0, x2_0, y2_0, vx1_0, vy1_0, vx2_0, vy2_0],\n",
    "             t=t)"
   ]
  },
  {
   "cell_type": "markdown",
   "metadata": {},
   "source": [
    "Plot $x$ as a function of time"
   ]
  },
  {
   "cell_type": "code",
   "execution_count": 8,
   "metadata": {},
   "outputs": [
    {
     "data": {
      "image/png": "[encoded data removed]",
      "text/plain": [
       "<Figure size 432x288 with 1 Axes>"
      ]
     },
     "metadata": {
      "needs_background": "light"
     },
     "output_type": "display_data"
    }
   ],
   "source": [
    "plt.plot(sol.T[0])\n",
    "plt.xlim(0,200)\n",
    "plt.grid()"
   ]
  },
  {
   "cell_type": "markdown",
   "metadata": {},
   "source": [
    "Get the times in units of years"
   ]
  },
  {
   "cell_type": "code",
   "execution_count": 15,
   "metadata": {},
   "outputs": [],
   "source": [
    "# 1) Convert to seconds (SI unit) using equation above\n",
    "tt = 1/np.sqrt(6.67e-11 * 5.97e24 / (1.5e11)**3 ) \n",
    "# 2) Convert from seconds to years\n",
    "tt = tt / (60*60 * 24* 365.25) * np.diff(t)[0] # per time step (in years)"
   ]
  },
  {
   "cell_type": "markdown",
   "metadata": {},
   "source": [
    "Get solutions"
   ]
  },
  {
   "cell_type": "code",
   "execution_count": 19,
   "metadata": {},
   "outputs": [],
   "source": [
    "x1 = sol.T[0]\n",
    "y1 = sol.T[1]\n",
    "x2 = sol.T[2]\n",
    "y2 = sol.T[3]"
   ]
  },
  {
   "cell_type": "markdown",
   "metadata": {},
   "source": [
    "Make animation"
   ]
  },
  {
   "cell_type": "code",
   "execution_count": 20,
   "metadata": {},
   "outputs": [
    {
     "data": {
      "image/png": "[encoded data removed]",
      "text/plain": [
       "<Figure size 576x576 with 1 Axes>"
      ]
     },
     "metadata": {
      "needs_background": "light"
     },
     "output_type": "display_data"
    }
   ],
   "source": [
    "def animate(i):\n",
    "    ln1.set_data([x1[i], x2[i]], [y1[i], y2[i]])\n",
    "    text.set_text('Time = {:.2f} Years'.format(i*tt))\n",
    "fig, ax = plt.subplots(1,1, figsize=(8,8))\n",
    "ax.grid()\n",
    "ln1, = plt.plot([], [], 'ro--', lw=3, markersize=8)\n",
    "text = plt.text(0.7, 0.7, '')\n",
    "ax.set_ylim(-5, 5)\n",
    "ax.set_xlim(-5,5)\n",
    "ani = animation.FuncAnimation(fig, animate, frames=200, interval=50)\n",
    "ani.save('plan.gif',writer='pillow',fps=30)"
   ]
  },
  {
   "cell_type": "markdown",
   "metadata": {},
   "source": [
    "# 3 Body Problem"
   ]
  },
  {
   "cell_type": "markdown",
   "metadata": {},
   "source": [
    "* https://arxiv.org/pdf/1303.0181.pdf\n",
    "* https://arxiv.org/pdf/1709.04775.pdf\n",
    "\n",
    "These two papers look at the three body problem under the following configuraton:\n",
    "\n",
    "* $m_1 = m_2 = 1$. $m_3$ can vary\n",
    "* At $t=0$ the initial conditions $x_1 = -x_2 = -1 $  and $x_3 = 0$ \n",
    "* At $t=0$ the initial conditions $y_1 = y_2 = y_3 = 0$\n",
    "* At $t=0$ the initial conditions $v_{x1} = v_{x2} = v_1$ where $v_1$ is some defined speed\n",
    "* At $t=0$ the initial conditions $v_{y1} = v_{y2} = v_2$ where $v_2$ is some defined speed\n",
    "* At $t=0$ the initial conditions $v_{x3} = -2 v_1 / m_3$ and $v_{y3} = -2v_2 / m_3$\n",
    "\n",
    "Thus the only parameters that are altered are $m_3$, $v_1$, and $v_2$. **These are states with zero angular momentum**. \n",
    "\n",
    "See Table I from paper 1 and Table I from paper 2 for interesting stable configurations (hard to find!). Here are two I found:\n",
    "\n",
    "1. From last row of Table I paper 2: $v_1 = 0.9911981217$, $v_2 = 0.7119472124$, and $m_3 = 4$\n",
    "2. From second row of Table I paper 1: $v_1=0.39295$, $v_2 = 0.09758$ and $m_3=1$"
   ]
  },
  {
   "cell_type": "code",
   "execution_count": 30,
   "metadata": {},
   "outputs": [],
   "source": [
    "# PARARMS TO CHANGE\n",
    "m3 = 1\n",
    "v1 =  0.39295\n",
    "v2 = 0.09758\n",
    "\n",
    "# Everything else follows from paper\n",
    "m1 = 1\n",
    "m2 = 1 \n",
    "m3 = m3\n",
    "x1_0 = -1\n",
    "y1_0 = 0\n",
    "x2_0 = 1\n",
    "y2_0 = 0\n",
    "x3_0 = 0\n",
    "y3_0 = 0\n",
    "vx1_0 =  v1\n",
    "vy1_0 =  v2\n",
    "vx2_0 = v1\n",
    "vy2_0 = v2\n",
    "vx3_0 = -2*v1/m3\n",
    "vy3_0 = -2*v2/m3"
   ]
  },
  {
   "cell_type": "markdown",
   "metadata": {},
   "source": [
    "Define the ODE system"
   ]
  },
  {
   "cell_type": "code",
   "execution_count": 31,
   "metadata": {},
   "outputs": [],
   "source": [
    "def dSdt(t, S):\n",
    "    x1, y1, x2, y2, x3, y3, vx1, vy1, vx2, vy2, vx3, vy3 = S\n",
    "    r12 = np.sqrt((x2-x1)**2 + (y2-y1)**2)\n",
    "    r13 = np.sqrt((x3-x1)**2 + (y3-y1)**2)\n",
    "    r23 = np.sqrt((x2-x3)**2 + (y2-y3)**2)\n",
    "    return [ vx1,\n",
    "            vy1,\n",
    "            vx2,\n",
    "            vy2,\n",
    "            vx3,\n",
    "            vy3,\n",
    "            m2/r12**3 * (x2-x1) + m3/r13**3 * (x3-x1), #mass 1\n",
    "            m2/r12**3 * (y2-y1) + m3/r13**3 * (y3-y1),\n",
    "            m1/r12**3 * (x1-x2) + m3/r23**3 * (x3-x2), #mass 2\n",
    "            m1/r12**3 * (y1-y2) + m3/r23**3 * (y3-y2),\n",
    "            m1/r13**3 * (x1-x3) + m2/r23**3 * (x2-x3), #mass 3\n",
    "            m1/r13**3 * (y1-y3) + m2/r23**3 * (y2-y3)\n",
    "           ]"
   ]
  },
  {
   "cell_type": "markdown",
   "metadata": {},
   "source": [
    "Define times to solve"
   ]
  },
  {
   "cell_type": "code",
   "execution_count": 32,
   "metadata": {},
   "outputs": [],
   "source": [
    "t = np.linspace(0, 20, 1000)"
   ]
  },
  {
   "cell_type": "markdown",
   "metadata": {},
   "source": [
    "Here we use the special `DOP853` solver as recommended by the paper. We set very small values for `rtol` and `atol` to ensure a proper solution."
   ]
  },
  {
   "cell_type": "code",
   "execution_count": 33,
   "metadata": {},
   "outputs": [],
   "source": [
    "sol = solve_ivp(dSdt, (0,20), y0=[x1_0, y1_0, x2_0, y2_0, x3_0, y3_0,\n",
    "                       vx1_0, vy1_0, vx2_0, vy2_0, vx3_0, vy3_0],\n",
    "                method = 'DOP853', t_eval=t, rtol=1e-10, atol=1e-13)"
   ]
  },
  {
   "cell_type": "markdown",
   "metadata": {},
   "source": [
    "Get solutions for the three particles"
   ]
  },
  {
   "cell_type": "code",
   "execution_count": 34,
   "metadata": {},
   "outputs": [],
   "source": [
    "t = sol.t\n",
    "x1 = sol.y[0]\n",
    "y1 = sol.y[1]\n",
    "x2 = sol.y[2]\n",
    "y2 = sol.y[3]\n",
    "x3 = sol.y[4]\n",
    "y3 = sol.y[5]"
   ]
  },
  {
   "cell_type": "markdown",
   "metadata": {},
   "source": [
    "Plot sample $x_1$ vs time."
   ]
  },
  {
   "cell_type": "code",
   "execution_count": 35,
   "metadata": {},
   "outputs": [
    {
     "data": {
      "text/plain": [
       "[<matplotlib.lines.Line2D at 0x26b0d0d5940>]"
      ]
     },
     "execution_count": 35,
     "metadata": {},
     "output_type": "execute_result"
    },
    {
     "data": {
      "image/png": "[encoded data removed]",
      "text/plain": [
       "<Figure size 432x288 with 1 Axes>"
      ]
     },
     "metadata": {
      "needs_background": "light"
     },
     "output_type": "display_data"
    }
   ],
   "source": [
    "plt.plot(t, y1)"
   ]
  },
  {
   "cell_type": "markdown",
   "metadata": {},
   "source": [
    "Get the actual times (this assumes 3 suns orbiting at earth-sun distance)"
   ]
  },
  {
   "cell_type": "code",
   "execution_count": 36,
   "metadata": {},
   "outputs": [],
   "source": [
    "tt = 1/np.sqrt(6.67e-11 * 1.99e30 / (1.5e11)**3 ) # seconds\n",
    "tt = tt / (60*60 * 24* 365.25) * np.diff(t)[0] # per time step (in years)"
   ]
  },
  {
   "cell_type": "code",
   "execution_count": 37,
   "metadata": {},
   "outputs": [
    {
     "data": {
      "image/png": "[encoded data removed]",
      "text/plain": [
       "<Figure size 576x576 with 1 Axes>"
      ]
     },
     "metadata": {
      "needs_background": "light"
     },
     "output_type": "display_data"
    }
   ],
   "source": [
    "def animate(i):\n",
    "    ln1.set_data([x1[i], x2[i], x3[i]], [y1[i], y2[i], y3[i]])\n",
    "    text.set_text('Time = {:.1f} Years'.format(i*tt))\n",
    "fig, ax = plt.subplots(1,1, figsize=(8,8))\n",
    "ax.grid()\n",
    "ln1, = plt.plot([], [], 'ro', lw=3, markersize=6)\n",
    "text = plt.text(0, 1.75, 'asdasd', fontsize=20, backgroundcolor='white', ha='center')\n",
    "ax.set_ylim(-2, 2)\n",
    "ax.set_xlim(-2,2)\n",
    "ani = animation.FuncAnimation(fig, animate, frames=1000, interval=50)\n",
    "ani.save('plan.gif',writer='pillow',fps=30)"
   ]
  },
  {
   "cell_type": "code",
   "execution_count": null,
   "metadata": {},
   "outputs": [],
   "source": []
  }
 ],
 "metadata": {
  "kernelspec": {
   "display_name": "Python 3",
   "language": "python",
   "name": "python3"
  },
  "language_info": {
   "codemirror_mode": {
    "name": "ipython",
    "version": 3
   },
   "file_extension": ".py",
   "mimetype": "text/x-python",
   "name": "python",
   "nbconvert_exporter": "python",
   "pygments_lexer": "ipython3",
   "version": "3.8.5"
  }
 },
 "nbformat": 4,
 "nbformat_minor": 4
}
